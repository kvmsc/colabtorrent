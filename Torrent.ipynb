{
  "nbformat": 4,
  "nbformat_minor": 0,
  "metadata": {
    "colab": {
      "name": "Torrent.ipynb",
      "provenance": [],
      "collapsed_sections": []
    },
    "kernelspec": {
      "name": "python3",
      "display_name": "Python 3"
    }
  },
  "cells": [
    {
      "cell_type": "code",
      "metadata": {
        "id": "X86xISIAOcAR",
        "colab_type": "code",
        "colab": {}
      },
      "source": [
        "TorrName = 'YOUR TORRENT NAME'"
      ],
      "execution_count": 0,
      "outputs": []
    },
    {
      "cell_type": "code",
      "metadata": {
        "id": "Rbc3S0Hl8Eih",
        "colab_type": "code",
        "colab": {}
      },
      "source": [
        "FolderPath = f'/content/drive/Shared drives/Ol/{TorrName}'\n",
        "TorrPath = f'{TorrName}.torrent'"
      ],
      "execution_count": 0,
      "outputs": []
    },
    {
      "cell_type": "code",
      "metadata": {
        "id": "9ZUPxeR2LkOL",
        "colab_type": "code",
        "colab": {}
      },
      "source": [
        "def init():\n",
        "  import os\n",
        "  os.system('apt-get install transmission-cli')\n",
        "  from google.colab import drive\n",
        "  drive.mount('/content/drive')"
      ],
      "execution_count": 0,
      "outputs": []
    },
    {
      "cell_type": "code",
      "metadata": {
        "id": "dyGCWYaS7SZd",
        "colab_type": "code",
        "colab": {}
      },
      "source": [
        "def download(loc, tor):\n",
        "  assert (os.path.exists(tor)==True), \"The torrent file doesn't exist\"\n",
        "  print(\"If the cell is running for a long time check if the torrent has no seeders!\")\n",
        "  os.system(f\"transmission-cli -w '{loc}' {tor}\")\n",
        "  print(\"DONE\")"
      ],
      "execution_count": 0,
      "outputs": []
    },
    {
      "cell_type": "code",
      "metadata": {
        "id": "65wZ7Qrv7Kp3",
        "colab_type": "code",
        "outputId": "2aaed2c4-7037-443e-f4d9-684b524e025f",
        "colab": {
          "base_uri": "https://localhost:8080/",
          "height": 55
        }
      },
      "source": [
        "init()"
      ],
      "execution_count": 0,
      "outputs": [
        {
          "output_type": "stream",
          "text": [
            "Drive already mounted at /content/drive; to attempt to forcibly remount, call drive.mount(\"/content/drive\", force_remount=True).\n"
          ],
          "name": "stdout"
        }
      ]
    },
    {
      "cell_type": "code",
      "metadata": {
        "id": "ko8-Gq4CN37Z",
        "colab_type": "code",
        "outputId": "3b0c043b-aa62-44e3-fbfa-8dd7fdd77444",
        "colab": {
          "base_uri": "https://localhost:8080/",
          "height": 35
        }
      },
      "source": [
        "download(FolderPath,TorrPath)"
      ],
      "execution_count": 0,
      "outputs": [
        {
          "output_type": "stream",
          "text": [
            "DONE\n"
          ],
          "name": "stdout"
        }
      ]
    }
  ]
}
